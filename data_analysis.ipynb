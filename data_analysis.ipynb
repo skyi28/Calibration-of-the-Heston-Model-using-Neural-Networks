{
 "cells": [
  {
   "cell_type": "markdown",
   "id": "4ae6a12a",
   "metadata": {},
   "source": []
  },
  {
   "cell_type": "code",
   "execution_count": 1,
   "id": "24ab9314",
   "metadata": {},
   "outputs": [],
   "source": [
    "import os\n",
    "\n",
    "import duckdb\n",
    "import pandas as pd\n",
    "\n",
    "from database import Database\n",
    "import config"
   ]
  },
  {
   "cell_type": "markdown",
   "id": "26d3987a",
   "metadata": {},
   "source": []
  },
  {
   "cell_type": "code",
   "execution_count": 2,
   "id": "479dc6e7",
   "metadata": {},
   "outputs": [],
   "source": [
    "db: Database = Database('historical_option_data.db')"
   ]
  },
  {
   "cell_type": "code",
   "execution_count": 3,
   "id": "9de75284",
   "metadata": {},
   "outputs": [
    {
     "data": {
      "application/vnd.microsoft.datawrangler.viewer.v0+json": {
       "columns": [
        {
         "name": "index",
         "rawType": "int64",
         "type": "integer"
        },
        {
         "name": "date",
         "rawType": "datetime64[us]",
         "type": "unknown"
        }
       ],
       "ref": "aa48bb81-f306-4458-9adc-8ac1052bdb35",
       "rows": [
        [
         "0",
         "2025-09-15 00:00:00"
        ],
        [
         "1",
         "2025-09-12 00:00:00"
        ],
        [
         "2",
         "2025-09-11 00:00:00"
        ],
        [
         "3",
         "2025-09-09 00:00:00"
        ],
        [
         "4",
         "2025-09-08 00:00:00"
        ],
        [
         "5",
         "2025-09-05 00:00:00"
        ],
        [
         "6",
         "2025-09-04 00:00:00"
        ],
        [
         "7",
         "2025-09-03 00:00:00"
        ],
        [
         "8",
         "2025-09-02 00:00:00"
        ],
        [
         "9",
         "2025-08-29 00:00:00"
        ],
        [
         "10",
         "2025-08-28 00:00:00"
        ],
        [
         "11",
         "2025-08-27 00:00:00"
        ],
        [
         "12",
         "2025-08-25 00:00:00"
        ],
        [
         "13",
         "2025-08-22 00:00:00"
        ],
        [
         "14",
         "2025-08-21 00:00:00"
        ],
        [
         "15",
         "2025-08-20 00:00:00"
        ],
        [
         "16",
         "2025-08-19 00:00:00"
        ],
        [
         "17",
         "2025-08-18 00:00:00"
        ],
        [
         "18",
         "2025-08-15 00:00:00"
        ],
        [
         "19",
         "2025-08-14 00:00:00"
        ],
        [
         "20",
         "2025-08-13 00:00:00"
        ],
        [
         "21",
         "2025-08-12 00:00:00"
        ],
        [
         "22",
         "2025-08-11 00:00:00"
        ],
        [
         "23",
         "2025-08-08 00:00:00"
        ],
        [
         "24",
         "2025-08-07 00:00:00"
        ],
        [
         "25",
         "2025-08-06 00:00:00"
        ],
        [
         "26",
         "2025-08-05 00:00:00"
        ],
        [
         "27",
         "2025-08-04 00:00:00"
        ],
        [
         "28",
         "2025-08-01 00:00:00"
        ],
        [
         "29",
         "2025-07-31 00:00:00"
        ],
        [
         "30",
         "2025-07-30 00:00:00"
        ],
        [
         "31",
         "2025-07-29 00:00:00"
        ],
        [
         "32",
         "2025-07-28 00:00:00"
        ],
        [
         "33",
         "2025-07-25 00:00:00"
        ],
        [
         "34",
         "2025-07-24 00:00:00"
        ],
        [
         "35",
         "2025-07-23 00:00:00"
        ],
        [
         "36",
         "2025-07-22 00:00:00"
        ],
        [
         "37",
         "2025-07-21 00:00:00"
        ],
        [
         "38",
         "2025-07-18 00:00:00"
        ],
        [
         "39",
         "2025-07-17 00:00:00"
        ],
        [
         "40",
         "2025-07-16 00:00:00"
        ],
        [
         "41",
         "2025-07-15 00:00:00"
        ],
        [
         "42",
         "2025-07-14 00:00:00"
        ],
        [
         "43",
         "2025-07-11 00:00:00"
        ],
        [
         "44",
         "2025-07-10 00:00:00"
        ],
        [
         "45",
         "2025-07-09 00:00:00"
        ],
        [
         "46",
         "2025-07-08 00:00:00"
        ],
        [
         "47",
         "2025-07-07 00:00:00"
        ],
        [
         "48",
         "2025-07-04 00:00:00"
        ],
        [
         "49",
         "2025-07-03 00:00:00"
        ]
       ],
       "shape": {
        "columns": 1,
        "rows": 1016
       }
      },
      "text/html": [
       "<div>\n",
       "<style scoped>\n",
       "    .dataframe tbody tr th:only-of-type {\n",
       "        vertical-align: middle;\n",
       "    }\n",
       "\n",
       "    .dataframe tbody tr th {\n",
       "        vertical-align: top;\n",
       "    }\n",
       "\n",
       "    .dataframe thead th {\n",
       "        text-align: right;\n",
       "    }\n",
       "</style>\n",
       "<table border=\"1\" class=\"dataframe\">\n",
       "  <thead>\n",
       "    <tr style=\"text-align: right;\">\n",
       "      <th></th>\n",
       "      <th>date</th>\n",
       "    </tr>\n",
       "  </thead>\n",
       "  <tbody>\n",
       "    <tr>\n",
       "      <th>0</th>\n",
       "      <td>2025-09-15</td>\n",
       "    </tr>\n",
       "    <tr>\n",
       "      <th>1</th>\n",
       "      <td>2025-09-12</td>\n",
       "    </tr>\n",
       "    <tr>\n",
       "      <th>2</th>\n",
       "      <td>2025-09-11</td>\n",
       "    </tr>\n",
       "    <tr>\n",
       "      <th>3</th>\n",
       "      <td>2025-09-09</td>\n",
       "    </tr>\n",
       "    <tr>\n",
       "      <th>4</th>\n",
       "      <td>2025-09-08</td>\n",
       "    </tr>\n",
       "    <tr>\n",
       "      <th>...</th>\n",
       "      <td>...</td>\n",
       "    </tr>\n",
       "    <tr>\n",
       "      <th>1011</th>\n",
       "      <td>2019-03-09</td>\n",
       "    </tr>\n",
       "    <tr>\n",
       "      <th>1012</th>\n",
       "      <td>2019-03-02</td>\n",
       "    </tr>\n",
       "    <tr>\n",
       "      <th>1013</th>\n",
       "      <td>2019-02-23</td>\n",
       "    </tr>\n",
       "    <tr>\n",
       "      <th>1014</th>\n",
       "      <td>2019-02-16</td>\n",
       "    </tr>\n",
       "    <tr>\n",
       "      <th>1015</th>\n",
       "      <td>2019-02-09</td>\n",
       "    </tr>\n",
       "  </tbody>\n",
       "</table>\n",
       "<p>1016 rows × 1 columns</p>\n",
       "</div>"
      ],
      "text/plain": [
       "           date\n",
       "0    2025-09-15\n",
       "1    2025-09-12\n",
       "2    2025-09-11\n",
       "3    2025-09-09\n",
       "4    2025-09-08\n",
       "...         ...\n",
       "1011 2019-03-09\n",
       "1012 2019-03-02\n",
       "1013 2019-02-23\n",
       "1014 2019-02-16\n",
       "1015 2019-02-09\n",
       "\n",
       "[1016 rows x 1 columns]"
      ]
     },
     "execution_count": 3,
     "metadata": {},
     "output_type": "execute_result"
    }
   ],
   "source": [
    "db.connection.execute(f\"SELECT DISTINCT date FROM {config.OPTIONS_DATA_TABLE} WHERE act_symbol = 'SPY' ORDER BY date DESC\").df()"
   ]
  },
  {
   "cell_type": "code",
   "execution_count": 4,
   "id": "f74f5fa5",
   "metadata": {},
   "outputs": [],
   "source": [
    "df = db.connection.execute(f\"SELECT * FROM {config.OPTIONS_DATA_TABLE} WHERE act_symbol = 'SPY' AND date = '2023-03-17'\").df()\n",
    "# db.connection.execute(f\"SELECT DISTINCT expiration FROM {config.OPTIONS_DATA_TABLE} WHERE act_symbol = 'SPY' AND date = '2025-09-15'\").df()"
   ]
  },
  {
   "cell_type": "code",
   "execution_count": 5,
   "id": "a19167cd",
   "metadata": {},
   "outputs": [
    {
     "data": {
      "application/vnd.microsoft.datawrangler.viewer.v0+json": {
       "columns": [
        {
         "name": "index",
         "rawType": "int64",
         "type": "integer"
        },
        {
         "name": "date",
         "rawType": "datetime64[us]",
         "type": "unknown"
        },
        {
         "name": "act_symbol",
         "rawType": "object",
         "type": "string"
        },
        {
         "name": "expiration",
         "rawType": "datetime64[us]",
         "type": "unknown"
        },
        {
         "name": "strike",
         "rawType": "float64",
         "type": "float"
        },
        {
         "name": "call_put",
         "rawType": "object",
         "type": "string"
        },
        {
         "name": "bid",
         "rawType": "float64",
         "type": "float"
        },
        {
         "name": "ask",
         "rawType": "float64",
         "type": "float"
        },
        {
         "name": "vol",
         "rawType": "float64",
         "type": "float"
        },
        {
         "name": "delta",
         "rawType": "float64",
         "type": "float"
        },
        {
         "name": "gamma",
         "rawType": "float64",
         "type": "float"
        },
        {
         "name": "theta",
         "rawType": "float64",
         "type": "float"
        },
        {
         "name": "vega",
         "rawType": "float64",
         "type": "float"
        },
        {
         "name": "rho",
         "rawType": "float64",
         "type": "float"
        }
       ],
       "ref": "d19b2450-ccc7-441f-b8fc-b4d23830bb97",
       "rows": [
        [
         "0",
         "2023-03-17 00:00:00",
         "SPY",
         "2023-03-31 00:00:00",
         "275.0",
         "Call",
         "115.76",
         "116.04",
         "0.6966",
         "0.9958",
         "0.0002",
         "-0.0533",
         "0.0091",
         "0.1047"
        ],
        [
         "1",
         "2023-03-17 00:00:00",
         "SPY",
         "2023-03-31 00:00:00",
         "275.0",
         "Put",
         "0.03",
         "0.04",
         "0.649",
         "-0.0023",
         "0.0001",
         "-0.0127",
         "0.0055",
         "-0.0004"
        ],
        [
         "2",
         "2023-03-17 00:00:00",
         "SPY",
         "2023-03-31 00:00:00",
         "285.0",
         "Call",
         "105.78",
         "106.07",
         "0.6385",
         "0.995",
         "0.0003",
         "-0.056",
         "0.0106",
         "0.1084"
        ],
        [
         "3",
         "2023-03-17 00:00:00",
         "SPY",
         "2023-03-31 00:00:00",
         "285.0",
         "Put",
         "0.04",
         "0.05",
         "0.6034",
         "-0.0031",
         "0.0002",
         "-0.0154",
         "0.0072",
         "-0.0005"
        ],
        [
         "4",
         "2023-03-17 00:00:00",
         "SPY",
         "2023-03-31 00:00:00",
         "295.0",
         "Call",
         "95.81",
         "96.1",
         "0.5847",
         "0.9939",
         "0.0004",
         "-0.0598",
         "0.0128",
         "0.112"
        ]
       ],
       "shape": {
        "columns": 13,
        "rows": 5
       }
      },
      "text/html": [
       "<div>\n",
       "<style scoped>\n",
       "    .dataframe tbody tr th:only-of-type {\n",
       "        vertical-align: middle;\n",
       "    }\n",
       "\n",
       "    .dataframe tbody tr th {\n",
       "        vertical-align: top;\n",
       "    }\n",
       "\n",
       "    .dataframe thead th {\n",
       "        text-align: right;\n",
       "    }\n",
       "</style>\n",
       "<table border=\"1\" class=\"dataframe\">\n",
       "  <thead>\n",
       "    <tr style=\"text-align: right;\">\n",
       "      <th></th>\n",
       "      <th>date</th>\n",
       "      <th>act_symbol</th>\n",
       "      <th>expiration</th>\n",
       "      <th>strike</th>\n",
       "      <th>call_put</th>\n",
       "      <th>bid</th>\n",
       "      <th>ask</th>\n",
       "      <th>vol</th>\n",
       "      <th>delta</th>\n",
       "      <th>gamma</th>\n",
       "      <th>theta</th>\n",
       "      <th>vega</th>\n",
       "      <th>rho</th>\n",
       "    </tr>\n",
       "  </thead>\n",
       "  <tbody>\n",
       "    <tr>\n",
       "      <th>0</th>\n",
       "      <td>2023-03-17</td>\n",
       "      <td>SPY</td>\n",
       "      <td>2023-03-31</td>\n",
       "      <td>275.0</td>\n",
       "      <td>Call</td>\n",
       "      <td>115.76</td>\n",
       "      <td>116.04</td>\n",
       "      <td>0.6966</td>\n",
       "      <td>0.9958</td>\n",
       "      <td>0.0002</td>\n",
       "      <td>-0.0533</td>\n",
       "      <td>0.0091</td>\n",
       "      <td>0.1047</td>\n",
       "    </tr>\n",
       "    <tr>\n",
       "      <th>1</th>\n",
       "      <td>2023-03-17</td>\n",
       "      <td>SPY</td>\n",
       "      <td>2023-03-31</td>\n",
       "      <td>275.0</td>\n",
       "      <td>Put</td>\n",
       "      <td>0.03</td>\n",
       "      <td>0.04</td>\n",
       "      <td>0.6490</td>\n",
       "      <td>-0.0023</td>\n",
       "      <td>0.0001</td>\n",
       "      <td>-0.0127</td>\n",
       "      <td>0.0055</td>\n",
       "      <td>-0.0004</td>\n",
       "    </tr>\n",
       "    <tr>\n",
       "      <th>2</th>\n",
       "      <td>2023-03-17</td>\n",
       "      <td>SPY</td>\n",
       "      <td>2023-03-31</td>\n",
       "      <td>285.0</td>\n",
       "      <td>Call</td>\n",
       "      <td>105.78</td>\n",
       "      <td>106.07</td>\n",
       "      <td>0.6385</td>\n",
       "      <td>0.9950</td>\n",
       "      <td>0.0003</td>\n",
       "      <td>-0.0560</td>\n",
       "      <td>0.0106</td>\n",
       "      <td>0.1084</td>\n",
       "    </tr>\n",
       "    <tr>\n",
       "      <th>3</th>\n",
       "      <td>2023-03-17</td>\n",
       "      <td>SPY</td>\n",
       "      <td>2023-03-31</td>\n",
       "      <td>285.0</td>\n",
       "      <td>Put</td>\n",
       "      <td>0.04</td>\n",
       "      <td>0.05</td>\n",
       "      <td>0.6034</td>\n",
       "      <td>-0.0031</td>\n",
       "      <td>0.0002</td>\n",
       "      <td>-0.0154</td>\n",
       "      <td>0.0072</td>\n",
       "      <td>-0.0005</td>\n",
       "    </tr>\n",
       "    <tr>\n",
       "      <th>4</th>\n",
       "      <td>2023-03-17</td>\n",
       "      <td>SPY</td>\n",
       "      <td>2023-03-31</td>\n",
       "      <td>295.0</td>\n",
       "      <td>Call</td>\n",
       "      <td>95.81</td>\n",
       "      <td>96.10</td>\n",
       "      <td>0.5847</td>\n",
       "      <td>0.9939</td>\n",
       "      <td>0.0004</td>\n",
       "      <td>-0.0598</td>\n",
       "      <td>0.0128</td>\n",
       "      <td>0.1120</td>\n",
       "    </tr>\n",
       "  </tbody>\n",
       "</table>\n",
       "</div>"
      ],
      "text/plain": [
       "        date act_symbol expiration  strike call_put     bid     ask     vol  \\\n",
       "0 2023-03-17        SPY 2023-03-31   275.0     Call  115.76  116.04  0.6966   \n",
       "1 2023-03-17        SPY 2023-03-31   275.0      Put    0.03    0.04  0.6490   \n",
       "2 2023-03-17        SPY 2023-03-31   285.0     Call  105.78  106.07  0.6385   \n",
       "3 2023-03-17        SPY 2023-03-31   285.0      Put    0.04    0.05  0.6034   \n",
       "4 2023-03-17        SPY 2023-03-31   295.0     Call   95.81   96.10  0.5847   \n",
       "\n",
       "    delta   gamma   theta    vega     rho  \n",
       "0  0.9958  0.0002 -0.0533  0.0091  0.1047  \n",
       "1 -0.0023  0.0001 -0.0127  0.0055 -0.0004  \n",
       "2  0.9950  0.0003 -0.0560  0.0106  0.1084  \n",
       "3 -0.0031  0.0002 -0.0154  0.0072 -0.0005  \n",
       "4  0.9939  0.0004 -0.0598  0.0128  0.1120  "
      ]
     },
     "execution_count": 5,
     "metadata": {},
     "output_type": "execute_result"
    }
   ],
   "source": [
    "df.head()"
   ]
  },
  {
   "cell_type": "code",
   "execution_count": 6,
   "id": "bc3aad34",
   "metadata": {},
   "outputs": [
    {
     "data": {
      "application/vnd.microsoft.datawrangler.viewer.v0+json": {
       "columns": [
        {
         "name": "index",
         "rawType": "object",
         "type": "string"
        },
        {
         "name": "expiration_in_days",
         "rawType": "float64",
         "type": "float"
        }
       ],
       "ref": "a61187c7-3bfa-41c2-b945-c086080d1491",
       "rows": [
        [
         "count",
         "66.0"
        ],
        [
         "mean",
         "30.333333333333332"
        ],
        [
         "std",
         "14.493853692920837"
        ],
        [
         "min",
         "14.0"
        ],
        [
         "25%",
         "14.0"
        ],
        [
         "50%",
         "28.0"
        ],
        [
         "75%",
         "49.0"
        ],
        [
         "max",
         "49.0"
        ]
       ],
       "shape": {
        "columns": 1,
        "rows": 8
       }
      },
      "text/plain": [
       "count    66.000000\n",
       "mean     30.333333\n",
       "std      14.493854\n",
       "min      14.000000\n",
       "25%      14.000000\n",
       "50%      28.000000\n",
       "75%      49.000000\n",
       "max      49.000000\n",
       "Name: expiration_in_days, dtype: float64"
      ]
     },
     "execution_count": 6,
     "metadata": {},
     "output_type": "execute_result"
    }
   ],
   "source": [
    "df['expiration_in_days'] = (pd.to_datetime(df['expiration']) - pd.to_datetime(df['date'])).dt.days\n",
    "df['expiration_in_days'].describe()"
   ]
  }
 ],
 "metadata": {
  "kernelspec": {
   "display_name": "base",
   "language": "python",
   "name": "python3"
  },
  "language_info": {
   "codemirror_mode": {
    "name": "ipython",
    "version": 3
   },
   "file_extension": ".py",
   "mimetype": "text/x-python",
   "name": "python",
   "nbconvert_exporter": "python",
   "pygments_lexer": "ipython3",
   "version": "3.12.3"
  }
 },
 "nbformat": 4,
 "nbformat_minor": 5
}
